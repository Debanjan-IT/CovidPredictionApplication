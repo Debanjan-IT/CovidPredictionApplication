{
  "nbformat": 4,
  "nbformat_minor": 0,
  "metadata": {
    "colab": {
      "name": "CovidPredictionModelSelection.ipynb",
      "provenance": [],
      "collapsed_sections": []
    },
    "kernelspec": {
      "name": "python3",
      "display_name": "Python 3"
    },
    "language_info": {
      "name": "python"
    }
  },
  "cells": [
    {
      "cell_type": "markdown",
      "metadata": {
        "id": "oebodyk6XhkO"
      },
      "source": [
        "# **Choosing directory**"
      ]
    },
    {
      "cell_type": "code",
      "metadata": {
        "colab": {
          "base_uri": "https://localhost:8080/"
        },
        "id": "bIcmBpUDM2L6",
        "outputId": "0448c60a-e3fc-4ba8-b678-08d7f0cac22d"
      },
      "source": [
        "%cd sample_data/"
      ],
      "execution_count": 1,
      "outputs": [
        {
          "output_type": "stream",
          "name": "stdout",
          "text": [
            "/content/sample_data\n"
          ]
        }
      ]
    },
    {
      "cell_type": "markdown",
      "metadata": {
        "id": "Hr2tQ0E3XZ-6"
      },
      "source": [
        "# **Importing module**"
      ]
    },
    {
      "cell_type": "code",
      "metadata": {
        "id": "bAMe5gh3NboL"
      },
      "source": [
        "import pandas as pd\n",
        "import numpy as np\n",
        "import matplotlib.pyplot as plt\n",
        "from sklearn.model_selection import train_test_split\n",
        "from sklearn import metrics\n",
        "import time\n",
        "import joblib\n",
        "from sklearn.tree import DecisionTreeClassifier\n",
        "from sklearn.ensemble import RandomForestClassifier\n",
        "from sklearn import svm\n",
        "from sklearn.linear_model import LogisticRegression\n",
        "from sklearn.neighbors import KNeighborsClassifier\n",
        "from sklearn.naive_bayes import GaussianNB"
      ],
      "execution_count": 2,
      "outputs": []
    },
    {
      "cell_type": "markdown",
      "metadata": {
        "id": "JRctLODzXmGs"
      },
      "source": [
        "# **Required variables**"
      ]
    },
    {
      "cell_type": "code",
      "metadata": {
        "id": "dF_Mom13P2BM"
      },
      "source": [
        "model_score = []"
      ],
      "execution_count": 3,
      "outputs": []
    },
    {
      "cell_type": "markdown",
      "metadata": {
        "id": "ZpscfhiXXWy4"
      },
      "source": [
        "# **Importing data**"
      ]
    },
    {
      "cell_type": "code",
      "metadata": {
        "id": "zXTb3YWINcTG"
      },
      "source": [
        "cleaned_data = pd.read_csv(\"Covid Dataset.csv\")"
      ],
      "execution_count": 4,
      "outputs": []
    },
    {
      "cell_type": "code",
      "metadata": {
        "colab": {
          "base_uri": "https://localhost:8080/"
        },
        "id": "n4T8-nQlbtSI",
        "outputId": "e0b193af-2cde-4631-e7e9-694c6a5f0723"
      },
      "source": [
        "cleaned_data.info()"
      ],
      "execution_count": 5,
      "outputs": [
        {
          "output_type": "stream",
          "name": "stdout",
          "text": [
            "<class 'pandas.core.frame.DataFrame'>\n",
            "RangeIndex: 5434 entries, 0 to 5433\n",
            "Data columns (total 21 columns):\n",
            " #   Column                                   Non-Null Count  Dtype \n",
            "---  ------                                   --------------  ----- \n",
            " 0   Breathing Problem                        5434 non-null   object\n",
            " 1   Fever                                    5434 non-null   object\n",
            " 2   Dry Cough                                5434 non-null   object\n",
            " 3   Sore throat                              5434 non-null   object\n",
            " 4   Running Nose                             5434 non-null   object\n",
            " 5   Asthma                                   5434 non-null   object\n",
            " 6   Chronic Lung Disease                     5434 non-null   object\n",
            " 7   Headache                                 5434 non-null   object\n",
            " 8   Heart Disease                            5434 non-null   object\n",
            " 9   Diabetes                                 5434 non-null   object\n",
            " 10  Hyper Tension                            5434 non-null   object\n",
            " 11  Fatigue                                  5434 non-null   object\n",
            " 12  Gastrointestinal                         5434 non-null   object\n",
            " 13  Abroad travel                            5434 non-null   object\n",
            " 14  Contact with COVID Patient               5434 non-null   object\n",
            " 15  Attended Large Gathering                 5434 non-null   object\n",
            " 16  Visited Public Exposed Places            5434 non-null   object\n",
            " 17  Family working in Public Exposed Places  5434 non-null   object\n",
            " 18  Wearing Masks                            5434 non-null   object\n",
            " 19  Sanitization from Market                 5434 non-null   object\n",
            " 20  COVID-19                                 5434 non-null   object\n",
            "dtypes: object(21)\n",
            "memory usage: 891.6+ KB\n"
          ]
        }
      ]
    },
    {
      "cell_type": "markdown",
      "metadata": {
        "id": "gB7LN2ONXS4L"
      },
      "source": [
        "# **Processing data**"
      ]
    },
    {
      "cell_type": "code",
      "metadata": {
        "id": "KG8GILKwNclc"
      },
      "source": [
        "processed_data = []\n",
        "for i in range(len(cleaned_data.index)):\n",
        "  a = []\n",
        "  for j in cleaned_data.iloc[i,:]:\n",
        "    if (j.lower() == \"yes\"):\n",
        "      a.append(1)\n",
        "    else:\n",
        "      a.append(0)\n",
        "  processed_data.append(a)"
      ],
      "execution_count": 6,
      "outputs": []
    },
    {
      "cell_type": "code",
      "metadata": {
        "id": "xxaiG_eTfBgU"
      },
      "source": [
        "df = pd.DataFrame(processed_data, columns =['Breathing Problem', 'Fever', 'Dry Cough', 'Sore throat', 'Running Nose', 'Asthma', 'Chronic Lung Disease', 'Headache', 'Heart Disease', 'Diabetes', 'Hyper Tension', 'Fatigue', 'Gastrointestinal', 'Abroad travel', 'Contact with COVID Patient', 'Attended Large Gathering', 'Visited Public Exposed Places', 'Family working in Public Exposed Places', 'Wearing Masks', 'Sanitization from Market', 'COVID-19'])"
      ],
      "execution_count": 9,
      "outputs": []
    },
    {
      "cell_type": "code",
      "metadata": {
        "id": "Se--v2nUg_6B"
      },
      "source": [
        "df.to_csv('Cleaned&ProcessedData.csv')"
      ],
      "execution_count": 11,
      "outputs": []
    },
    {
      "cell_type": "markdown",
      "metadata": {
        "id": "sEssjT48XMGO"
      },
      "source": [
        "# **Cleaning data**"
      ]
    },
    {
      "cell_type": "code",
      "metadata": {
        "colab": {
          "base_uri": "https://localhost:8080/"
        },
        "id": "rLMloJf0OpJn",
        "outputId": "bd480b2b-83ea-4756-86c1-235b1b006ee3"
      },
      "source": [
        "processed_dataframe = pd.DataFrame(processed_data)\n",
        "cleaned_data = processed_dataframe.dropna()\n",
        "print(f\"Deleted Rows: {(len(processed_dataframe.index) - len(cleaned_data.index))}\")"
      ],
      "execution_count": null,
      "outputs": [
        {
          "output_type": "stream",
          "name": "stdout",
          "text": [
            "Deleted Rows: 0\n"
          ]
        }
      ]
    },
    {
      "cell_type": "markdown",
      "metadata": {
        "id": "dIMfdww5XKUu"
      },
      "source": [
        "# **Splitting data**"
      ]
    },
    {
      "cell_type": "code",
      "metadata": {
        "id": "4klfsWvpOu1E"
      },
      "source": [
        "X = cleaned_data.iloc[:,0:20].values\n",
        "y = cleaned_data.iloc[:,20]"
      ],
      "execution_count": null,
      "outputs": []
    },
    {
      "cell_type": "markdown",
      "metadata": {
        "id": "S5IdjWm3W-nb"
      },
      "source": [
        "# **Train test splitting**"
      ]
    },
    {
      "cell_type": "code",
      "metadata": {
        "id": "KvOf4ViNOzIi"
      },
      "source": [
        "X_train, X_test, y_train, y_test = train_test_split(X, y, test_size=0.3)"
      ],
      "execution_count": null,
      "outputs": []
    },
    {
      "cell_type": "markdown",
      "metadata": {
        "id": "5ykjiWnCPXfT"
      },
      "source": [
        "# **MODEL 1 (RFC)** "
      ]
    },
    {
      "cell_type": "code",
      "metadata": {
        "id": "0faCDDjiPV7s"
      },
      "source": [
        "model1 = RandomForestClassifier(n_estimators=100)\n",
        "strt = time.time()\n",
        "model1.fit(X_train,y_train)\n",
        "end = time.time()\n",
        "y_pred1 = model1.predict(X_test)"
      ],
      "execution_count": null,
      "outputs": []
    },
    {
      "cell_type": "code",
      "metadata": {
        "colab": {
          "base_uri": "https://localhost:8080/"
        },
        "id": "5I3C9SwGPwTn",
        "outputId": "efa7786f-b5d8-4b0b-ed9e-30bdd68c92c1"
      },
      "source": [
        "model_score.append([\"RFC\",metrics.accuracy_score(y_test, y_pred1)*100,end-strt])\n",
        "print(\"Accuracy:\",metrics.accuracy_score(y_test, y_pred1)*100)"
      ],
      "execution_count": null,
      "outputs": [
        {
          "output_type": "stream",
          "name": "stdout",
          "text": [
            "Accuracy: 98.52851011649295\n"
          ]
        }
      ]
    },
    {
      "cell_type": "markdown",
      "metadata": {
        "id": "-DK3frdnQGVL"
      },
      "source": [
        "# **MODEL 2 (DTC)**"
      ]
    },
    {
      "cell_type": "code",
      "metadata": {
        "id": "BXbGaeUPQJBI"
      },
      "source": [
        "model2 = DecisionTreeClassifier()\n",
        "strt = time.time()\n",
        "model2.fit(X_train,y_train)\n",
        "end = time.time()\n",
        "y_pred2 = model2.predict(X_test)"
      ],
      "execution_count": null,
      "outputs": []
    },
    {
      "cell_type": "code",
      "metadata": {
        "colab": {
          "base_uri": "https://localhost:8080/"
        },
        "id": "kzBg-7u1QLWK",
        "outputId": "239b1d73-b9b9-433c-b38a-659e31202cac"
      },
      "source": [
        "model_score.append([\"DTC\",metrics.accuracy_score(y_test, y_pred2)*100,end-strt])\n",
        "print(\"Accuracy:\",metrics.accuracy_score(y_test, y_pred2)*100)"
      ],
      "execution_count": null,
      "outputs": [
        {
          "output_type": "stream",
          "name": "stdout",
          "text": [
            "Accuracy: 98.52851011649295\n"
          ]
        }
      ]
    },
    {
      "cell_type": "markdown",
      "metadata": {
        "id": "iB-JzpKXQll2"
      },
      "source": [
        "# **MODEL 3 (SVM)**"
      ]
    },
    {
      "cell_type": "code",
      "metadata": {
        "id": "KfDq2bKBQgvn"
      },
      "source": [
        "model3 = svm.SVC(kernel='linear')\n",
        "strt = time.time()\n",
        "model3.fit(X_train,y_train)\n",
        "end = time.time()\n",
        "y_pred3 = model3.predict(X_test)"
      ],
      "execution_count": null,
      "outputs": []
    },
    {
      "cell_type": "code",
      "metadata": {
        "colab": {
          "base_uri": "https://localhost:8080/"
        },
        "id": "_vVyqakLQpkL",
        "outputId": "062295b4-957c-4ae1-a9f8-16588eb12b07"
      },
      "source": [
        "model_score.append([\"SVM\",metrics.accuracy_score(y_test, y_pred3)*100,end-strt])\n",
        "print(\"Accuracy:\",metrics.accuracy_score(y_test, y_pred3)*100)"
      ],
      "execution_count": null,
      "outputs": [
        {
          "output_type": "stream",
          "name": "stdout",
          "text": [
            "Accuracy: 97.54751686082159\n"
          ]
        }
      ]
    },
    {
      "cell_type": "markdown",
      "metadata": {
        "id": "V78lukzDQ_pZ"
      },
      "source": [
        "# **MODEL 4 (LR)**"
      ]
    },
    {
      "cell_type": "code",
      "metadata": {
        "id": "FbroY-JURCEl"
      },
      "source": [
        "model4 = LogisticRegression()\n",
        "strt = time.time()\n",
        "model4.fit(X_train,y_train)\n",
        "end = time.time()\n",
        "y_pred4 = model4.predict(X_test)"
      ],
      "execution_count": null,
      "outputs": []
    },
    {
      "cell_type": "code",
      "metadata": {
        "colab": {
          "base_uri": "https://localhost:8080/"
        },
        "id": "qnEqWUAwREPU",
        "outputId": "36590975-a6b3-46d9-cc2f-4ad405b320fe"
      },
      "source": [
        "model_score.append([\"LR\",metrics.accuracy_score(y_test, y_pred4)*100,end-strt])\n",
        "print(\"Accuracy:\",metrics.accuracy_score(y_test, y_pred4)*100)"
      ],
      "execution_count": null,
      "outputs": [
        {
          "output_type": "stream",
          "name": "stdout",
          "text": [
            "Accuracy: 97.36358062538321\n"
          ]
        }
      ]
    },
    {
      "cell_type": "markdown",
      "metadata": {
        "id": "EKOn0lt7RiTY"
      },
      "source": [
        "# **MODEL 5 (KNN)**"
      ]
    },
    {
      "cell_type": "code",
      "metadata": {
        "id": "NlsSmJI4RkVP"
      },
      "source": [
        "model5 = KNeighborsClassifier()\n",
        "strt = time.time()\n",
        "model5.fit(X_train,y_train)\n",
        "end = time.time()\n",
        "y_pred5 = model5.predict(X_test)"
      ],
      "execution_count": null,
      "outputs": []
    },
    {
      "cell_type": "code",
      "metadata": {
        "colab": {
          "base_uri": "https://localhost:8080/"
        },
        "id": "w0HtCcVVRmnZ",
        "outputId": "f7d2b659-1845-497d-e3fe-bd8bf1ccc56a"
      },
      "source": [
        "model_score.append([\"KNN\",metrics.accuracy_score(y_test, y_pred5)*100,end-strt])\n",
        "print(\"Accuracy:\",metrics.accuracy_score(y_test, y_pred5)*100)"
      ],
      "execution_count": null,
      "outputs": [
        {
          "output_type": "stream",
          "name": "stdout",
          "text": [
            "Accuracy: 97.9767014101778\n"
          ]
        }
      ]
    },
    {
      "cell_type": "markdown",
      "metadata": {
        "id": "xrIsxLMESpSs"
      },
      "source": [
        "# **MODEL 6 (NB)**"
      ]
    },
    {
      "cell_type": "code",
      "metadata": {
        "id": "kSaWmH_5SuyH"
      },
      "source": [
        "model6 = GaussianNB()\n",
        "strt = time.time()\n",
        "model6.fit(X_train,y_train)\n",
        "end = time.time()\n",
        "y_pred6 = model6.predict(X_test)"
      ],
      "execution_count": null,
      "outputs": []
    },
    {
      "cell_type": "code",
      "metadata": {
        "colab": {
          "base_uri": "https://localhost:8080/"
        },
        "id": "3nzT-dgITCJM",
        "outputId": "9def0899-24c3-4124-caf3-0d684d368884"
      },
      "source": [
        "model_score.append([\"NB\",metrics.accuracy_score(y_test, y_pred6)*100,end-strt])\n",
        "print(\"Accuracy:\",metrics.accuracy_score(y_test, y_pred6)*100)"
      ],
      "execution_count": null,
      "outputs": [
        {
          "output_type": "stream",
          "name": "stdout",
          "text": [
            "Accuracy: 79.2152053954629\n"
          ]
        }
      ]
    },
    {
      "cell_type": "markdown",
      "metadata": {
        "id": "Mmg89xxBW3oQ"
      },
      "source": [
        "# **Choosing the best machine learning model**"
      ]
    },
    {
      "cell_type": "code",
      "metadata": {
        "colab": {
          "base_uri": "https://localhost:8080/"
        },
        "id": "EUv7BzbUT5q5",
        "outputId": "6ffb4c90-ec1e-4b6f-ac73-4fd03eea13e2"
      },
      "source": [
        "mdl = \"\"\n",
        "accr = 0\n",
        "tm = 0\n",
        "max = 0\n",
        "for i in model_score:\n",
        "  if (i[1] > max):\n",
        "    mdl = i[0]\n",
        "    max = i[1]\n",
        "    accr = i[1]\n",
        "    tm = i[2]\n",
        "  elif (i[1] == max and tm > i[2]):\n",
        "    mdl = i[0]\n",
        "    max = i[1]\n",
        "    accr = i[1]\n",
        "    tm = i[2]\n",
        "print(f\"Best model is {mdl} with {accr}% accuracy and time consumption {tm}\")"
      ],
      "execution_count": null,
      "outputs": [
        {
          "output_type": "stream",
          "name": "stdout",
          "text": [
            "Best model is DTC with 98.52851011649295% accuracy and time consumption 0.008222579956054688\n"
          ]
        }
      ]
    },
    {
      "cell_type": "markdown",
      "metadata": {
        "id": "S6nEM18MX55U"
      },
      "source": [
        "# **Making and training the best model**"
      ]
    },
    {
      "cell_type": "code",
      "metadata": {
        "colab": {
          "base_uri": "https://localhost:8080/"
        },
        "id": "nOBJdvgdYBZ8",
        "outputId": "8706871a-d952-4b9e-bda7-c60420257733"
      },
      "source": [
        "model = DecisionTreeClassifier()\n",
        "model.fit(X,y)"
      ],
      "execution_count": null,
      "outputs": [
        {
          "output_type": "execute_result",
          "data": {
            "text/plain": [
              "DecisionTreeClassifier(ccp_alpha=0.0, class_weight=None, criterion='gini',\n",
              "                       max_depth=None, max_features=None, max_leaf_nodes=None,\n",
              "                       min_impurity_decrease=0.0, min_impurity_split=None,\n",
              "                       min_samples_leaf=1, min_samples_split=2,\n",
              "                       min_weight_fraction_leaf=0.0, presort='deprecated',\n",
              "                       random_state=None, splitter='best')"
            ]
          },
          "metadata": {},
          "execution_count": 72
        }
      ]
    },
    {
      "cell_type": "markdown",
      "metadata": {
        "id": "02B9iO5TbQyY"
      },
      "source": [
        "# **Saving the trained model**"
      ]
    },
    {
      "cell_type": "code",
      "metadata": {
        "colab": {
          "base_uri": "https://localhost:8080/"
        },
        "id": "DZBbXh6oYdtD",
        "outputId": "cc6dd00e-6b74-43d5-c038-b560b3aceb10"
      },
      "source": [
        "filename = 'BestModel.sav'\n",
        "joblib.dump(model, filename)"
      ],
      "execution_count": null,
      "outputs": [
        {
          "output_type": "execute_result",
          "data": {
            "text/plain": [
              "['BestModel.sav']"
            ]
          },
          "metadata": {},
          "execution_count": 75
        }
      ]
    },
    {
      "cell_type": "markdown",
      "metadata": {
        "id": "SrKdC0FubhFc"
      },
      "source": [
        "# **Loading the saved model**"
      ]
    },
    {
      "cell_type": "code",
      "metadata": {
        "id": "dZj1pTQQbcei"
      },
      "source": [
        "model = joblib.load(filename)"
      ],
      "execution_count": null,
      "outputs": []
    },
    {
      "cell_type": "markdown",
      "metadata": {
        "id": "8DOFt8X1cQp4"
      },
      "source": [
        "# **Predicting with the saved model**"
      ]
    },
    {
      "cell_type": "code",
      "metadata": {
        "colab": {
          "base_uri": "https://localhost:8080/"
        },
        "id": "472KXH1DboO0",
        "outputId": "3f6ef6ae-d935-45a0-ef8d-d9e293a41038"
      },
      "source": [
        "res = model.predict([[1,0,0,0,0,1,1,0,0,1,0,0,0,0,0,0,1,0,1,1]])[0]\n",
        "if (res == 0):\n",
        "  print(\"Negative\")\n",
        "else:\n",
        "  print(\"Positive\")"
      ],
      "execution_count": null,
      "outputs": [
        {
          "output_type": "stream",
          "name": "stdout",
          "text": [
            "Negative\n"
          ]
        }
      ]
    }
  ]
}